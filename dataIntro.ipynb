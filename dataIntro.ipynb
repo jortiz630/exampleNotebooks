{
 "cells": [
  {
   "cell_type": "code",
   "execution_count": 2,
   "metadata": {
    "collapsed": true
   },
   "outputs": [],
   "source": [
    "from illustris import getGalaxy\n",
    "import numpy as np\n",
    "import matplotlib\n",
    "import matplotlib.pyplot as plt\n",
    "from __future__ import division\n",
    "%matplotlib inline\n",
    "pi=np.pi"
   ]
  },
  {
   "cell_type": "code",
   "execution_count": 3,
   "metadata": {
    "collapsed": false
   },
   "outputs": [],
   "source": [
    "# Getting data from a particular galaxy (from online)\n",
    "\n",
    "# Here we pick which kinds of particles we want (0-gas, 4-stars)\n",
    "# and what information about them \n",
    "# (see http://www.illustris-project.org/data/docs/specifications/)\n",
    "fields=[\n",
    "    [4,'Coordinates'],\n",
    "    [4,'Velocities'],\n",
    "    [4,'Masses'],\n",
    "    [0,'Coordinates'],\n",
    "    [0,'Velocities'],\n",
    "    [0,'Masses'],\n",
    "    \n",
    "]\n",
    "\n",
    "# Spiral: 15, 300122\n",
    "# Elliptical: 342260, 382533\n",
    "# ???: 177131, 200655, 204394, 268841, 273742, 278699, 311141\n",
    "\n",
    "# Here we actually pull the data from online\n",
    "data=getGalaxy(15,fields)\n",
    "\n",
    "# And here we put it into simple numpy arrays to work with\n",
    "rStar=data[0][:,:]\n",
    "vStar=data[1][:,:]\n",
    "mStar=data[2][:]\n",
    "rGas=data[3][:,:]\n",
    "vGas=data[4][:,:]\n",
    "mGas=data[5][:]"
   ]
  },
  {
   "cell_type": "code",
   "execution_count": 4,
   "metadata": {
    "collapsed": true
   },
   "outputs": [],
   "source": [
    "# A few useful functions to build from\n",
    "\n",
    "# given the position and masses of the stars finds their center of mass\n",
    "def findCenterMass(rStar,mStar):\n",
    "    com=np.zeros(3)\n",
    "    for i in range(3):\n",
    "        com[i]=np.sum(rStar[:,i]*mStar[:])/np.sum(mStar[:])\n",
    "    return com\n",
    "\n",
    "\n",
    "\n",
    "# given the position and masses of the stars, some number of pixels and some distance finds\n",
    "# the projected total mass\n",
    "def findPixels(rStar,mStar,nPixels,span):\n",
    "    pixels=np.zeros((nPixels,nPixels))\n",
    "    for i in range(nPixels):\n",
    "        for j in range(nPixels):\n",
    "            inPix=np.argwhere((span*(((2*i)/nPixels)-1)<rStar[:,0])\n",
    "                            &(span*(((2*j)/nPixels)-1)<rStar[:,2])\n",
    "                         &(span*(((2*(i+1))/nPixels)-1)>rStar[:,0])\n",
    "                         &(span*(((2*(j+1))/nPixels)-1)>rStar[:,2]))\n",
    "            if inPix.size==0:\n",
    "                continue\n",
    "            pixels[i,j]=np.sum(mStar[inPix])\n",
    "    return pixels\n",
    "\n",
    "def findPixelsVel(rStar,vStar,nPixels,span):\n",
    "    pixels=np.zeros((nPixels,nPixels))\n",
    "    for i in range(nPixels):\n",
    "        for j in range(nPixels):\n",
    "            inPix=np.argwhere((span*(((2*i)/nPixels)-1)<rStar[:,0])\n",
    "                            &(span*(((2*j)/nPixels)-1)<rStar[:,2])\n",
    "                         &(span*(((2*(i+1))/nPixels)-1)>rStar[:,0])\n",
    "                         &(span*(((2*(j+1))/nPixels)-1)>rStar[:,2]))\n",
    "            if inPix.size==0:\n",
    "                continue\n",
    "            pixels[i,j]=np.sum(vStar[inPix])\n",
    "    return pixels"
   ]
  },
  {
   "cell_type": "code",
   "execution_count": 5,
   "metadata": {
    "collapsed": false
   },
   "outputs": [],
   "source": [
    "# Moving all the co-ordinates such that the galaxy's centered on (0,0,0)\n",
    "\n",
    "nStar=len(mStar)\n",
    "com1=findCenterMass(rStar,mStar) # finds the center of mass\n",
    "rStar=rStar-com1 # recenters all positions around the center of mass\n",
    "com2=findCenterMass(vStar,mStar)\n",
    "vStar=vStar-com2"
   ]
  },
  {
   "cell_type": "markdown",
   "metadata": {
    "collapsed": false
   },
   "source": [
    "# Finding and plotting the density profile\n",
    "\n",
    "# finds the distance between every particle and the origin\n",
    "rSquared=np.zeros(nStar)\n",
    "for i in range(3):\n",
    "    rSquared+=rStar[:,i]**2\n",
    "r=np.sqrt(rSquared) \n",
    "\n",
    "# finds all particles in each of a series of radial bins,\n",
    "# finds the total mass in that bin and divides by the volume\n",
    "nBins=16\n",
    "rMax=16\n",
    "rBins=np.linspace(0,rMax,nBins+1)\n",
    "density=np.zeros(nBins)\n",
    "for i in range(nBins):\n",
    "    inBin=np.argwhere((r>rBins[i]) & (r<rBins[i+1]))\n",
    "    if inBin.size==0:\n",
    "        continue\n",
    "    density[i]=np.sum(mStar[inBin])/(4*np.pi*(np.power(rBins[i+1],3) - np.power(rBins[i],3))/3)\n",
    "\n",
    "# plots the denisty\n",
    "densPlot=plt.gca()\n",
    "densPlot.semilogy(rBins[:-1],density)\n",
    "densPlot.set_ylabel('Density')\n",
    "densPlot.set_xlabel('Radius')\n",
    "plt.show(densPlot)"
   ]
  },
  {
   "cell_type": "code",
   "execution_count": 6,
   "metadata": {
    "collapsed": false
   },
   "outputs": [
    {
     "data": {
      "image/png": "[encoded data removed]",
      "text/plain": [
       "<matplotlib.figure.Figure at 0x112125bd0>"
      ]
     },
     "metadata": {},
     "output_type": "display_data"
    },
    {
     "data": {
      "image/png": "[encoded data removed]",
      "text/plain": [
       "<matplotlib.figure.Figure at 0x1179b4b10>"
      ]
     },
     "metadata": {},
     "output_type": "display_data"
    }
   ],
   "source": [
    "# Making a simple image of the galaxy\n",
    "\n",
    "pixels=findPixels(rStar,mStar,64,16)\n",
    "galaxyPlot=plt.gca()\n",
    "image=galaxyPlot.imshow(pixels,cmap='plasma')\n",
    "plt.colorbar(image)\n",
    "plt.show(galaxyPlot)\n",
    "\n",
    "# Making a image of the velocity of the stars in the galaxy\n",
    "\n",
    "pixels=findPixelsVel(rStar,vStar,64,16)\n",
    "galaxyPlot=plt.gca()\n",
    "image=galaxyPlot.imshow(pixels,cmap='plasma')\n",
    "plt.colorbar(image)\n",
    "plt.show(galaxyPlot)"
   ]
  },
  {
   "cell_type": "markdown",
   "metadata": {
    "collapsed": true
   },
   "source": [
    "x=0\n",
    "y=pi/2\n",
    "z=0\n",
    "\n",
    "rz=np.array([[np.cos(z), -np.sin(z), 0], [np.sin(z), np.cos(z), 0], [0, 0, 1]])\n",
    "ry=np.array([[np.cos(y), 0, np.sin(y)], [0, 1, 0], [-np.sin(y), 0, np.cos(y)]])\n",
    "rx=np.array([[1, 0, 0], [0, np.cos(x), -np.sin(x)], [0, np.sin(x), np.cos(x)]])\n",
    "T = np.dot(np.dot(rz,ry),rx)\n",
    "rStarNew = np.transpose(T.dot(np.transpose(rStar)))"
   ]
  },
  {
   "cell_type": "markdown",
   "metadata": {},
   "source": [
    "pixels=findPixelsVel(rStarNew,vStar,64,16)\n",
    "galaxyPlot=plt.gca()\n",
    "image=galaxyPlot.imshow(pixels,cmap='plasma')\n",
    "plt.colorbar(image)\n",
    "plt.show(galaxyPlot)"
   ]
  },
  {
   "cell_type": "markdown",
   "metadata": {},
   "source": [
    "nGas=len(mGas)\n",
    "com_2=findCenterMass(rGas,mGas) # finds the center of mass\n",
    "rGas=rGas-com_2 # recenters all positions around the center of mass\n",
    "\n",
    "# Making a simple image of the galaxy\n",
    "\n",
    "pixels=findPixels(rGas,mGas,32,16)\n",
    "galaxyPlot=plt.gca()\n",
    "image=galaxyPlot.imshow(pixels,cmap='plasma')\n",
    "plt.colorbar(image)\n",
    "plt.show(galaxyPlot)\n",
    "\n",
    "pixels=findPixelsVel(rGas,vGas,32,16)\n",
    "galaxyPlot=plt.gca()\n",
    "image=galaxyPlot.imshow(pixels,cmap='plasma')\n",
    "plt.colorbar(image)\n",
    "plt.show(galaxyPlot)"
   ]
  },
  {
   "cell_type": "code",
   "execution_count": 15,
   "metadata": {
    "collapsed": false
   },
   "outputs": [
    {
     "name": "stdout",
     "output_type": "stream",
     "text": [
      "[ -1.11508490e+08  -1.94520044e+08   2.22315370e+08]\n",
      "315747231.764\n",
      "[-0.35315746 -0.61606255  0.70409285]\n"
     ]
    }
   ],
   "source": [
    "AngularMomentum=np.cross(rStar,vStar)\n",
    "sumAngulMoment=np.zeros(3)\n",
    "for i in range(0,3):\n",
    "    sumAngulMoment[i]=np.sum(AngularMomentum[:,i])\n",
    "print sumAngulMoment\n",
    "magSumAngulMoment=np.linalg.norm(sumAngulMoment)\n",
    "print magSumAngulMoment\n",
    "zhat=sumAngulMoment*(1/magSumAngulMoment)\n",
    "print zhat"
   ]
  },
  {
   "cell_type": "code",
   "execution_count": 18,
   "metadata": {
    "collapsed": false
   },
   "outputs": [
    {
     "ename": "TypeError",
     "evalue": "'builtin_function_or_method' object has no attribute '__getitem__'",
     "output_type": "error",
     "traceback": [
      "\u001b[0;31m---------------------------------------------------------------------------\u001b[0m",
      "\u001b[0;31mTypeError\u001b[0m                                 Traceback (most recent call last)",
      "\u001b[0;32m<ipython-input-18-434b83b460ac>\u001b[0m in \u001b[0;36m<module>\u001b[0;34m()\u001b[0m\n\u001b[1;32m      1\u001b[0m \u001b[0ma\u001b[0m\u001b[0;34m=\u001b[0m\u001b[0mzhat\u001b[0m\u001b[0;34m[\u001b[0m\u001b[0;36m0\u001b[0m\u001b[0;34m]\u001b[0m\u001b[0;34m\u001b[0m\u001b[0m\n\u001b[1;32m      2\u001b[0m \u001b[0mb\u001b[0m\u001b[0;34m=\u001b[0m\u001b[0mzhat\u001b[0m\u001b[0;34m[\u001b[0m\u001b[0;36m1\u001b[0m\u001b[0;34m]\u001b[0m\u001b[0;34m\u001b[0m\u001b[0m\n\u001b[0;32m----> 3\u001b[0;31m \u001b[0mx\u001b[0m\u001b[0;34m=\u001b[0m\u001b[0mnp\u001b[0m\u001b[0;34m.\u001b[0m\u001b[0marray\u001b[0m\u001b[0;34m[\u001b[0m\u001b[0mb\u001b[0m\u001b[0;34m,\u001b[0m\u001b[0;34m-\u001b[0m\u001b[0ma\u001b[0m\u001b[0;34m,\u001b[0m\u001b[0;36m0\u001b[0m\u001b[0;34m]\u001b[0m\u001b[0;34m\u001b[0m\u001b[0m\n\u001b[0m\u001b[1;32m      4\u001b[0m \u001b[0;32mprint\u001b[0m \u001b[0mx\u001b[0m\u001b[0;34m\u001b[0m\u001b[0m\n",
      "\u001b[0;31mTypeError\u001b[0m: 'builtin_function_or_method' object has no attribute '__getitem__'"
     ]
    }
   ],
   "source": [
    "a=zhat[0]\n",
    "b=zhat[1]\n",
    "x=np.array[b,-a,0]\n",
    "print x"
   ]
  },
  {
   "cell_type": "code",
   "execution_count": null,
   "metadata": {
    "collapsed": true
   },
   "outputs": [],
   "source": []
  }
 ],
 "metadata": {
  "kernelspec": {
   "display_name": "Python 2",
   "language": "python",
   "name": "python2"
  },
  "language_info": {
   "codemirror_mode": {
    "name": "ipython",
    "version": 2
   },
   "file_extension": ".py",
   "mimetype": "text/x-python",
   "name": "python",
   "nbconvert_exporter": "python",
   "pygments_lexer": "ipython2",
   "version": "2.7.13"
  }
 },
 "nbformat": 4,
 "nbformat_minor": 2
}
