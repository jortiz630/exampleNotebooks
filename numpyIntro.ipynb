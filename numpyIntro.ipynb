{
 "cells": [
  {
   "cell_type": "markdown",
   "metadata": {},
   "source": [
    "# Handling data (i.e. numpy)"
   ]
  },
  {
   "cell_type": "markdown",
   "metadata": {},
   "source": [
    "The reason python is such a useful language is not because it's the fastest, the most feauture rich or even very well written.\n",
    "\n",
    "It's strength comes from the fact it's: relatively readable, high-functioning (you can do complex things in just a few lines) but most of all because it's very easy to import new tools to suit almost any task.\n",
    "\n",
    "We're going to quickly introduce a couple of these that you'll use heavily over the next couple of days: numpy and matplotlib (in the next notebook)"
   ]
  },
  {
   "cell_type": "markdown",
   "metadata": {},
   "source": [
    "## Numpy - big data in a simple \"list\" (technically an array)\n",
    "\n",
    "Numpy may be the most useful tool for scientific coding. It allows you to write short code that runs very quickly operating on huge \"lists\" of data. N.b. I'm calling them, unofficially, \"lists\" here, because that's a good description of them in plain english. However a list is a different python object and numpy technically deals in ARRAYS, just a name for their particular kind of list that we'll use from now on."
   ]
  },
  {
   "cell_type": "markdown",
   "metadata": {},
   "source": [
    "### Importing modules\n",
    "\n",
    "I'm going to assume you have numpy installed (because we asked you to!) hopefully through a simple python package manager like Anaconda (or maybe pip).\n",
    "\n",
    "But we still have to tell python we want to use numpy, or in python jargon, we have to \"import the numpy module\"\n",
    "\n",
    "The way we do this is lovely and simple. We're going to complicate it a little by using a useful but extra shorthand, we could just import numpy and when we want to call a function in it say numpy.someFunction(), but that will quickly get tiresome. So instead we tell python that we're going to call this new module \"np\", we could choose anything here, like \"reallyUsefulPythonModule\", but that would kind of defeat the point..."
   ]
  },
  {
   "cell_type": "code",
   "execution_count": 1,
   "metadata": {
    "collapsed": true
   },
   "outputs": [],
   "source": [
    "import numpy as np"
   ]
  },
  {
   "cell_type": "markdown",
   "metadata": {},
   "source": [
    "Now it's importted and we could use it any and everywhere.\n",
    "\n",
    "### What does numpy do?\n",
    "\n",
    "Let's start working with these arrays. There's a whole bunch of ways to make an array, here's just a few:"
   ]
  },
  {
   "cell_type": "code",
   "execution_count": 4,
   "metadata": {
    "collapsed": false
   },
   "outputs": [
    {
     "name": "stdout",
     "output_type": "stream",
     "text": [
      "a=  [ 1  1  2  3  5  8 13 21 34 55]\n",
      "b=  [0 1 2 3 4]\n",
      "c=  [10  8  6  4  2  0 -2 -4 -6 -8]\n",
      "d= \n",
      " [[ 0.  0.]\n",
      " [ 0.  0.]\n",
      " [ 0.  0.]]\n",
      "e= \n",
      " [[ 1.  1.]\n",
      " [ 1.  1.]\n",
      " [ 1.  1.]]\n"
     ]
    }
   ],
   "source": [
    "a=np.array([1,1,2,3,5,8,13,21,34,55]) #simple 1D array of user inputted values (here the fibonacci sequence)\n",
    "print('a= ',a)\n",
    "b=np.arange(5) #1D array of the number 0,1,2,3,4 \n",
    "#(note that numpy inteprets this as \"give me the number up to but not including 5\")\n",
    "print('b= ',b)\n",
    "\n",
    "#in fact, arange can do a lot of things\n",
    "#you can always google these commands for more info but here's an example:\n",
    "c=np.arange(10,-10,-2) #this gives me the numbers (10,8,6,4,2,0,-2,-4,-6,-8)\n",
    "print('c= ',c)\n",
    "\n",
    "#arrays can have more than one dimension, for example:\n",
    "d=np.zeros((3,2)) #this is a 3 by 2 array of zeros (more useful than you might think!)\n",
    "print('d= \\n',d) #(\\n just means new line, makes it easier to read)\n",
    "\n",
    "#you can even make arrays of the same dimensions as existing arrays, e.g.\n",
    "e=np.ones_like(d)\n",
    "print('e= \\n',e)"
   ]
  },
  {
   "cell_type": "markdown",
   "metadata": {},
   "source": [
    "So we can make numpy arrays, but why do we use them? Because they allow us to do stuff to EVERYTHING in the array in one action (rather than looping through entry by entry)\n",
    "\n",
    "E.g."
   ]
  },
  {
   "cell_type": "code",
   "execution_count": 5,
   "metadata": {
    "collapsed": false
   },
   "outputs": [
    {
     "name": "stdout",
     "output_type": "stream",
     "text": [
      "We can add:  [[ 3.  3.]\n",
      " [ 3.  3.]\n",
      " [ 3.  3.]]\n",
      "or:  [11  9  8  7  7  8 11 17 28 47]\n",
      "We can multiply:  [ 5.  4.  3.  2.  1.  0. -1. -2. -3. -4.]\n",
      "And even:  [  10    8   12   12   10    0  -26  -84 -204 -440]\n"
     ]
    }
   ],
   "source": [
    "print('We can add: ',e+2)\n",
    "print('or: ',a+c) #note that these both have the same dimension\n",
    "#you can't add tall and skinny to short and fat!\n",
    "print('We can multiply: ',0.5*c)\n",
    "print('And even: ',a*c)"
   ]
  },
  {
   "cell_type": "markdown",
   "metadata": {
    "collapsed": true
   },
   "source": [
    "## What else does numpy do?\n",
    "\n",
    "We can make a bunch of arrays, and then start throwing them about, but that's only part of what numpy does. There are (probably) thousands of commands, some of them incredibly useful, some of them you'll probably never see. As always google is your friend if you want to do something specific, but here's one that will likely be useful to everyone immediately:"
   ]
  },
  {
   "cell_type": "markdown",
   "metadata": {},
   "source": [
    "### The stack commands\n",
    "We can all admit that we'd rather be playing with Lego at basically any moment. Luckily with numpy we almost can. The \"stack\" commands stick arrays together, either head to tail or side to side.\n",
    "\n",
    "Imagine we have 3 anchovies, tall and thin. We could stick them together head to tail (i.e. vertically), and make a really bad rope. Or we could stick them together side to side (i.e. horizontally) and fit the in a sardine tin.\n",
    "\n",
    "In this case, as in most, the more useful form is obvious (unless anyone can think of a good use for a fish-rope?). Honestly, I tend to work out the right one by trying one, and if it doesn't work trying the other, but feel free to show me up!"
   ]
  },
  {
   "cell_type": "code",
   "execution_count": 7,
   "metadata": {
    "collapsed": false
   },
   "outputs": [
    {
     "name": "stdout",
     "output_type": "stream",
     "text": [
      "aHorizontal: \n",
      " [ 1  1  2  3  5  8 13 21 34 55  1  1  2  3  5  8 13 21 34 55]\n",
      "aVertical: \n",
      " [[ 1  1  2  3  5  8 13 21 34 55]\n",
      " [ 1  1  2  3  5  8 13 21 34 55]]\n",
      "acVertical: \n",
      " [[ 1  1  2  3  5  8 13 21 34 55]\n",
      " [10  8  6  4  2  0 -2 -4 -6 -8]]\n",
      "deHorizontal: \n",
      " [[ 0.  0.  1.  1.]\n",
      " [ 0.  0.  1.  1.]\n",
      " [ 0.  0.  1.  1.]]\n"
     ]
    }
   ],
   "source": [
    "aHorizontal=np.hstack((a,a)) #note the second set of brackets!\n",
    "print('aHorizontal: \\n',aHorizontal) #fish-rope\n",
    "aVertical=np.vstack((a,a))\n",
    "print('aVertical: \\n',aVertical) #anchovies in a tin\n",
    "\n",
    "acVertical=np.vstack((a,c)) #as long as two arrays have compatible dimensions we can stack em\n",
    "print('acVertical: \\n',acVertical)\n",
    "\n",
    "deHorizontal=np.hstack((d,e)) #and we can do just the same for 2(+) dimensional arrays\n",
    "print('deHorizontal: \\n',deHorizontal)"
   ]
  },
  {
   "cell_type": "markdown",
   "metadata": {},
   "source": [
    "### Pulling out bits of arrays\n",
    "\n",
    "There are quite a few ways to pull out some part of an array, let's start with the most basic: grabbing everything in one dimension."
   ]
  },
  {
   "cell_type": "code",
   "execution_count": 8,
   "metadata": {
    "collapsed": false
   },
   "outputs": [
    {
     "name": "stdout",
     "output_type": "stream",
     "text": [
      "The third element in a:  3\n",
      "The zeroth element in c:  10\n",
      "The second element from the end of b:  3\n",
      "Zeroth row, first column of acVertical:  1\n",
      "First row, zeroth column of acVertical:  10\n",
      "Second row of deHorizontal:  [ 0.  0.  1.  1.]\n",
      "Thrid column of acVertical:  [3 4]\n",
      "Second, Third and Fourth elements of a:  [2 3 5]\n",
      "Fifth to penultimate elements from first row of acVertical: \n",
      " [ 0 -2 -4 -6]\n"
     ]
    }
   ],
   "source": [
    "#We can pull out individual elements, e.g.\n",
    "print('The third element in a: ',a[3])\n",
    "#Remember that (almost) every computing language starts counting at 0, hence\n",
    "print('The zeroth element in c: ',c[0])\n",
    "#Numpy also has a useful for shorthand for pulling out stuff at the back to the array\n",
    "print('The second element from the end of b: ',b[-2])\n",
    "\n",
    "#For multidimensional arrays (such as acVertical above) we can pull out individual elements\n",
    "#by telling numpy how for DOWN and then ACROSS the element we want is\n",
    "print('Zeroth row, first column of acVertical: ',acVertical[0,1])\n",
    "print('First row, zeroth column of acVertical: ',acVertical[1,0])\n",
    "\n",
    "#We can also pull out how rows using \":\" (which basically means everything)\n",
    "print('Second row of deHorizontal: ',deHorizontal[2,:])\n",
    "print('Thrid column of acVertical: ',acVertical[:,3])\n",
    "\n",
    "#Finally, we can use the \":\" command to define a range of values to pull out\n",
    "print('Second, Third and Fourth elements of a: ',a[2:5])\n",
    "print('Fifth to penultimate elements from first row of acVertical: \\n',acVertical[1,5:-1])"
   ]
  },
  {
   "cell_type": "markdown",
   "metadata": {
    "collapsed": true
   },
   "source": [
    "### The where command\n",
    "\n",
    "Sometimes we want more specific parts of an array, that's where the WHERE command comes in.\n",
    "\n",
    "The where command tells you where something is true.\n",
    "It's really useful for looking for relevant data in a long array."
   ]
  },
  {
   "cell_type": "code",
   "execution_count": 16,
   "metadata": {
    "collapsed": false
   },
   "outputs": [
    {
     "name": "stdout",
     "output_type": "stream",
     "text": [
      "aIndex: \n",
      " [[5]\n",
      " [6]]\n",
      "and the corresponding entries: \n",
      " [[ 8]\n",
      " [13]]\n",
      "the indices: \n",
      " [[0]\n",
      " [1]\n",
      " [2]\n",
      " [3]\n",
      " [4]]\n",
      "and the corresponding entries: \n",
      " [[10]\n",
      " [ 8]\n",
      " [ 6]\n",
      " [ 4]\n",
      " [ 2]]\n"
     ]
    }
   ],
   "source": [
    "aIndex=np.argwhere((a > 5) & (a < 20)) #the locations of elements in a that satisfy this condition\n",
    "print('aIndex: \\n',aIndex)\n",
    "print('and the corresponding entries: \\n',a[aIndex])\n",
    "\n",
    "#You can also pick data out of multidimensional arrays, for example the entries of \n",
    "#acVertical for which the first row is positive\n",
    "acIndex=np.argwhere(acVertical[1,:] > 0)\n",
    "print('the indices: \\n',acIndex)\n",
    "print('and the corresponding entries: \\n',acVertical[1,acIndex])"
   ]
  },
  {
   "cell_type": "markdown",
   "metadata": {},
   "source": [
    "### Random, mean and standard deviation\n",
    "\n",
    "When we have a whole bunch of data we often want to reduce it to just 2 numbers, a mean and a standard deviation."
   ]
  },
  {
   "cell_type": "code",
   "execution_count": 104,
   "metadata": {
    "collapsed": false
   },
   "outputs": [
    {
     "name": "stdout",
     "output_type": "stream",
     "text": [
      "10 random numbers between 0 and 1: \n",
      " [ 0.7792396   0.18407444  0.45118353  0.39815263  0.25962708  0.02948794\n",
      "  0.11975714  0.0878027   0.23987961  0.61515646]\n",
      "Mean:  0.316436111836\n",
      "Error in the mean:  0.0726744968058\n",
      "New mean:  0.499951321469\n",
      "and new error:  0.000229816937713\n"
     ]
    }
   ],
   "source": [
    "# First let's make some random data to work with\n",
    "randomData=np.random.random(10) # yes I know this is a function stupid name...\n",
    "print('10 random numbers between 0 and 1: \\n',randomData)\n",
    "print('Mean: ',np.mean(randomData))\n",
    "print('Error in the mean: ',np.std(randomData)/np.sqrt(10))\n",
    "\n",
    "# Notice what happens with more data points\n",
    "newData=np.random.random(1000000) # WAAAAY more data\n",
    "print('New mean: ',np.mean(newData))\n",
    "print('and new error: ',np.std(randomData)/np.sqrt(1000000))"
   ]
  },
  {
   "cell_type": "markdown",
   "metadata": {},
   "source": [
    "### The sort command\n",
    "\n",
    "The final tool we'll introduce here is the SORT command. This does exactly what it says, takes your data and sorts it. Sometimes more useful than a command that does the sorting for us is ARGSORT, which gives us the indices we'd need to resort the array ourselves."
   ]
  },
  {
   "cell_type": "code",
   "execution_count": 75,
   "metadata": {
    "collapsed": false
   },
   "outputs": [
    {
     "name": "stdout",
     "output_type": "stream",
     "text": [
      "g:  [ 6  3  7  3  2  1  9 10]\n",
      "gSorted:  [ 1  2  3  3  6  7  9 10]\n",
      "sortedIndices:  [5 4 1 3 0 2 6 7]\n",
      "and the sorted array:  [ 1  2  3  3  6  7  9 10]\n",
      "cMagSorted:  [5 4 6 3 7 2 8 1 9 0]\n",
      "c in absolute value order:  [ 0  2 -2  4 -4  6 -6  8 -8 10]\n",
      "and finally, absolute values of c sorted in absolute value order:  [ 0  2  2  4  4  6  6  8  8 10]\n"
     ]
    }
   ],
   "source": [
    "g=np.array([6,3,7,3,2,1,9,10])\n",
    "print('g: ',g)\n",
    "gSorted=np.sort(g)\n",
    "print('gSorted: ',gSorted) #g in ascending order\n",
    "\n",
    "#or we could do it in two steps, with argsort \n",
    "#(one of those commands that doesn't seem useful until it's really useful...)\n",
    "sortedIndices=np.argsort(g)\n",
    "print('sortedIndices: ',sortedIndices)\n",
    "print('and the sorted array: ',g[sortedIndices])\n",
    "\n",
    "#We don't need to sort the array into ascending order,\n",
    "#we can ask for the sorted indeces of anther array and use those instead. E.g.\n",
    "cMagSorted=np.argsort(np.abs(c)) #the ABS command gives the absolute value\n",
    "print('cMagSorted: ',cMagSorted)\n",
    "print('c in absolute value order: ',c[cMagSorted])\n",
    "print('and finally, absolute values of c sorted in absolute value order: ',np.abs(c[cMagSorted]))"
   ]
  },
  {
   "cell_type": "markdown",
   "metadata": {},
   "source": [
    "## Challenge - how random is random\n",
    "Make a big random array (100 elements should do) of random numbers between -1 and 1, sort it and find the mean difference between consecutive values? How does this relate to the size?\n",
    "\n",
    "(Challenge challenge - try doing the same with a for-loop and use the %timeit command to compare how long it takes)"
   ]
  },
  {
   "cell_type": "code",
   "execution_count": 7,
   "metadata": {
    "collapsed": false
   },
   "outputs": [
    {
     "name": "stdout",
     "output_type": "stream",
     "text": [
      "[ -3.41059806e-01  -8.86292379e-01  -5.24010754e-01   1.35982733e-01\n",
      "   6.76548003e-01  -6.60935410e-01  -7.20577817e-01  -7.49170753e-01\n",
      "   4.22335763e-01  -9.72529574e-01  -5.85026113e-01   6.08525454e-01\n",
      "  -7.12849704e-01  -4.82737844e-01  -2.74758807e-01  -8.36264264e-01\n",
      "  -6.10567443e-01  -9.96270733e-01  -3.01472118e-01  -5.99347418e-01\n",
      "  -9.41817035e-01  -8.27956675e-01   8.05518010e-02   4.18812392e-01\n",
      "  -6.60543235e-01   8.83494934e-01  -9.13757153e-01   7.25647813e-01\n",
      "   2.99429673e-01   3.16177603e-03  -6.51422380e-01   2.51418849e-01\n",
      "  -3.80673679e-01   1.58825541e-01  -1.49005576e-01  -2.04602455e-03\n",
      "   3.04029095e-01  -4.31323400e-01  -4.56691214e-01  -2.93378551e-01\n",
      "  -2.06095756e-01  -8.09173454e-01  -5.27060880e-01  -5.59544039e-01\n",
      "  -3.17862314e-01  -8.58855493e-01   5.68509458e-01   2.58406237e-01\n",
      "   2.31062716e-01   8.64913978e-01   1.71714494e-01  -4.52444750e-01\n",
      "  -2.26836124e-01  -4.47696220e-01   5.83667179e-01  -9.55491352e-01\n",
      "  -4.69268167e-01   5.32723351e-01   2.34793086e-01   5.08525724e-01\n",
      "  -4.34774885e-01   2.64772217e-01  -9.01354029e-01   9.09635810e-03\n",
      "  -4.14462802e-01   9.41017760e-01   2.00355987e-01  -2.82480704e-01\n",
      "  -6.22550143e-01   6.10372506e-01  -5.28464993e-01   4.10717406e-01\n",
      "   7.18777013e-01   4.61567286e-01  -1.67363212e-04  -6.38608953e-01\n",
      "  -9.60406036e-01  -4.36169719e-01  -3.17741103e-01  -6.72197324e-01\n",
      "   6.66457985e-01  -5.68030829e-01  -9.04237040e-01   8.68415054e-01\n",
      "  -6.09539367e-02   5.69821059e-01  -2.66503477e-02  -5.21244536e-01\n",
      "  -9.32693306e-01   4.10702479e-01  -8.91583585e-01  -3.28990064e-01\n",
      "  -6.52651465e-01   5.50316235e-01   6.15925923e-03  -7.48141426e-01\n",
      "   4.12894492e-01   1.30151728e-01  -4.37524283e-01   8.34521669e-01]\n",
      "\n",
      "\n",
      "[ -9.96270733e-01  -9.72529574e-01  -9.60406036e-01  -9.55491352e-01\n",
      "  -9.41817035e-01  -9.32693306e-01  -9.13757153e-01  -9.04237040e-01\n",
      "  -9.01354029e-01  -8.91583585e-01  -8.86292379e-01  -8.58855493e-01\n",
      "  -8.36264264e-01  -8.27956675e-01  -8.09173454e-01  -7.49170753e-01\n",
      "  -7.48141426e-01  -7.20577817e-01  -7.12849704e-01  -6.72197324e-01\n",
      "  -6.60935410e-01  -6.60543235e-01  -6.52651465e-01  -6.51422380e-01\n",
      "  -6.38608953e-01  -6.22550143e-01  -6.10567443e-01  -5.99347418e-01\n",
      "  -5.85026113e-01  -5.68030829e-01  -5.59544039e-01  -5.28464993e-01\n",
      "  -5.27060880e-01  -5.24010754e-01  -5.21244536e-01  -4.82737844e-01\n",
      "  -4.69268167e-01  -4.56691214e-01  -4.52444750e-01  -4.47696220e-01\n",
      "  -4.37524283e-01  -4.36169719e-01  -4.34774885e-01  -4.31323400e-01\n",
      "  -4.14462802e-01  -3.80673679e-01  -3.41059806e-01  -3.28990064e-01\n",
      "  -3.17862314e-01  -3.17741103e-01  -3.01472118e-01  -2.93378551e-01\n",
      "  -2.82480704e-01  -2.74758807e-01  -2.26836124e-01  -2.06095756e-01\n",
      "  -1.49005576e-01  -6.09539367e-02  -2.66503477e-02  -2.04602455e-03\n",
      "  -1.67363212e-04   3.16177603e-03   6.15925923e-03   9.09635810e-03\n",
      "   8.05518010e-02   1.30151728e-01   1.35982733e-01   1.58825541e-01\n",
      "   1.71714494e-01   2.00355987e-01   2.31062716e-01   2.34793086e-01\n",
      "   2.51418849e-01   2.58406237e-01   2.64772217e-01   2.99429673e-01\n",
      "   3.04029095e-01   4.10702479e-01   4.10717406e-01   4.12894492e-01\n",
      "   4.18812392e-01   4.22335763e-01   4.61567286e-01   5.08525724e-01\n",
      "   5.32723351e-01   5.50316235e-01   5.68509458e-01   5.69821059e-01\n",
      "   5.83667179e-01   6.08525454e-01   6.10372506e-01   6.66457985e-01\n",
      "   6.76548003e-01   7.18777013e-01   7.25647813e-01   8.34521669e-01\n",
      "   8.64913978e-01   8.68415054e-01   8.83494934e-01   9.41017760e-01]\n",
      "\n",
      "[  1.49270770e-05   1.21210550e-04   3.92174347e-04   1.02932643e-03\n",
      "   1.22908523e-03   1.31160147e-03   1.35456385e-03   1.39483428e-03\n",
      "   1.40411361e-03   1.84705269e-03   1.87866134e-03   2.17708545e-03\n",
      "   2.76621794e-03   2.88301104e-03   2.93709887e-03   2.99748319e-03\n",
      "   3.05012515e-03   3.32913925e-03   3.45148452e-03   3.50107647e-03\n",
      "   3.52337140e-03   3.73036942e-03   4.24646371e-03   4.59942200e-03\n",
      "   4.74853000e-03   4.91468420e-03   5.29120558e-03   5.83100548e-03\n",
      "   5.91790013e-03   6.36597999e-03   6.87079994e-03   6.98738772e-03\n",
      "   7.72189630e-03   7.72811351e-03   7.89177009e-03   8.09356734e-03\n",
      "   8.30758931e-03   8.48678977e-03   9.12372954e-03   9.52011234e-03\n",
      "   9.77044446e-03   1.00900178e-02   1.01719371e-02   1.08978470e-02\n",
      "   1.11277505e-02   1.12200250e-02   1.12619138e-02   1.19827004e-02\n",
      "   1.20697413e-02   1.21235377e-02   1.25769537e-02   1.28134274e-02\n",
      "   1.28889538e-02   1.34696768e-02   1.36743165e-02   1.38461199e-02\n",
      "   1.43213048e-02   1.50798795e-02   1.60588093e-02   1.62689854e-02\n",
      "   1.66257633e-02   1.68605985e-02   1.69952844e-02   1.75928839e-02\n",
      "   1.81932225e-02   1.87832212e-02   1.89361532e-02   2.07403679e-02\n",
      "   2.25912286e-02   2.28428073e-02   2.37411587e-02   2.41976275e-02\n",
      "   2.46043231e-02   2.48582746e-02   2.74368865e-02   2.75636087e-02\n",
      "   2.86414929e-02   3.03923090e-02   3.07067291e-02   3.10790459e-02\n",
      "   3.37891230e-02   3.43035890e-02   3.46574558e-02   3.85066922e-02\n",
      "   3.92315228e-02   3.96138731e-02   4.06523803e-02   4.22290098e-02\n",
      "   4.69584380e-02   4.79226829e-02   4.95999268e-02   5.60854788e-02\n",
      "   5.70901800e-02   5.75228265e-02   6.00027011e-02   7.14554429e-02\n",
      "   8.80516397e-02   1.06673384e-01   1.08873856e-01]\n"
     ]
    }
   ],
   "source": [
    "challenge=2*(np.array(np.random.random(100))-0.5)\n",
    "print challenge\n",
    "challengeSort=np.sort(challenge)\n",
    "print '\\n'\n",
    "print challengeSort\n",
    "\n",
    "diff=challengeSort[1:]-challengeSort[:-1]\n",
    "diffMean=np.sort(diff)\n",
    "print '\\n',diffMean\n",
    "\n",
    "#n=0\n",
    "#for (challenge(n) < 100):\n",
    "    "
   ]
  },
  {
   "cell_type": "code",
   "execution_count": null,
   "metadata": {
    "collapsed": true
   },
   "outputs": [],
   "source": []
  },
  {
   "cell_type": "code",
   "execution_count": null,
   "metadata": {
    "collapsed": true
   },
   "outputs": [],
   "source": []
  }
 ],
 "metadata": {
  "kernelspec": {
   "display_name": "Python 2",
   "language": "python",
   "name": "python2"
  },
  "language_info": {
   "codemirror_mode": {
    "name": "ipython",
    "version": 2
   },
   "file_extension": ".py",
   "mimetype": "text/x-python",
   "name": "python",
   "nbconvert_exporter": "python",
   "pygments_lexer": "ipython2",
   "version": "2.7.13"
  }
 },
 "nbformat": 4,
 "nbformat_minor": 2
}
